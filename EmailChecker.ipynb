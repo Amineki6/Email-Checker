{
 "cells": [
  {
   "cell_type": "code",
   "execution_count": 30,
   "metadata": {},
   "outputs": [],
   "source": [
    "import os\n",
    "import base64\n",
    "from googleapiclient.discovery import build\n",
    "import requests\n",
    "import openai\n",
    "import re\n",
    "from google.oauth2.credentials import Credentials\n",
    "from google_auth_oauthlib.flow import InstalledAppFlow\n",
    "from google.auth.transport.requests import Request"
   ]
  },
  {
   "cell_type": "code",
   "execution_count": 37,
   "metadata": {},
   "outputs": [],
   "source": [
    "# Define the scopes required to access the Gmail API\n",
    "SCOPES = ['https://www.googleapis.com/auth/gmail.readonly']\n",
    "\n",
    "def authenticate():\n",
    "    \"\"\"Authenticate with the Gmail API.\"\"\"\n",
    "    creds = None\n",
    "    # Check if there are existing credentials\n",
    "    if os.path.exists('token.json'):\n",
    "        creds = Credentials.from_authorized_user_file('token.json')\n",
    "    # If there are no (valid) credentials, let the user log in.\n",
    "    if not creds or not creds.valid:\n",
    "        if creds and creds.expired and creds.refresh_token:\n",
    "            creds.refresh(Request())\n",
    "        else:\n",
    "            flow = InstalledAppFlow.from_client_secrets_file(\n",
    "                'credentials.json', SCOPES)\n",
    "            creds = flow.run_local_server(port=0)\n",
    "        # Save the credentials for the next run\n",
    "        with open('token.json', 'w') as token:\n",
    "            token.write(creds.to_json())\n",
    "    return creds"
   ]
  },
  {
   "cell_type": "code",
   "execution_count": 47,
   "metadata": {},
   "outputs": [],
   "source": [
    "def email_checker(body):\n",
    "    api_url = \"https://api.openai.com/v1/chat/completions\"\n",
    "        \n",
    "        # Your API key\n",
    "    openai.api_key = \"\"\n",
    "\n",
    "    response = openai.ChatCompletion.create(\n",
    "        model=\"gpt-3.5-turbo-0125\",\n",
    "        messages=[\n",
    "                {\"role\": \"system\", \"content\": \"\"\"You will read an email that could potentially be from a recruiter. \n",
    "                You should read the email and respond ONLY by one of the three options:\n",
    "                    1- \"Accepted\" : in the case that the email is an acceptance letter or asking for an interview.\n",
    "                    2- \"Rejected\" : in the case that the email is a rejection letter.\n",
    "                    3- \"Not a job email\" : in the case that the email is not related to jobs or when the email is not an admission decision. \\n\\n \n",
    "                The email starts after this.\"\"\"},\n",
    "                {\"role\": \"user\", \"content\": body},\n",
    "                ]\n",
    "            )\n",
    "\n",
    "  \n",
    "    return response['choices'][0]['message']['content']\n"
   ]
  },
  {
   "cell_type": "code",
   "execution_count": 48,
   "metadata": {},
   "outputs": [],
   "source": [
    "def fetch_email_body(message_id):\n",
    "    \"\"\"Fetch the body of a specific email message.\"\"\"\n",
    "    creds = authenticate()\n",
    "    service = build('gmail', 'v1', credentials=creds)\n",
    "    msg = service.users().messages().get(userId='me', id=message_id).execute()\n",
    "    payload = msg['payload']\n",
    "    parts = payload.get('parts', [])\n",
    "    for part in parts:\n",
    "        if part['body'] and 'data' in part['body']:\n",
    "            body = base64.urlsafe_b64decode(part['body']['data']).decode('utf-8')\n",
    "            # Clean up the body by removing leading and trailing whitespace\n",
    "            body = body.strip()\n",
    "            # Remove extra whitespace within the body\n",
    "            body = re.sub(r'\\s+', ' ', body)\n",
    "            return body\n",
    "    return \"\"\n",
    "\n",
    "def fetch_unread_emails():\n",
    "    \"\"\"Fetch unread emails from Gmail.\"\"\"\n",
    "    creds = authenticate()\n",
    "    service = build('gmail', 'v1', credentials=creds)\n",
    "    # Call the Gmail API to fetch unread messages\n",
    "    results = service.users().messages().list(userId='me', q='is:unread').execute()\n",
    "    messages = results.get('messages', [])\n",
    "    if not messages:\n",
    "        print('No unread messages found.')\n",
    "    else:\n",
    "        print('Unread Messages:')\n",
    "        for message in messages:\n",
    "            msg_id = message['id']\n",
    "            body = fetch_email_body(msg_id)\n",
    "            # Check if the body is empty\n",
    "            if body.strip():\n",
    "                print(email_checker(body))"
   ]
  },
  {
   "cell_type": "code",
   "execution_count": 51,
   "metadata": {},
   "outputs": [
    {
     "name": "stdout",
     "output_type": "stream",
     "text": [
      "Unread Messages:\n",
      "Rejected\n"
     ]
    }
   ],
   "source": [
    "fetch_unread_emails()"
   ]
  }
 ],
 "metadata": {
  "kernelspec": {
   "display_name": "Python 3",
   "language": "python",
   "name": "python3"
  },
  "language_info": {
   "codemirror_mode": {
    "name": "ipython",
    "version": 3
   },
   "file_extension": ".py",
   "mimetype": "text/x-python",
   "name": "python",
   "nbconvert_exporter": "python",
   "pygments_lexer": "ipython3",
   "version": "3.10.2"
  }
 },
 "nbformat": 4,
 "nbformat_minor": 2
}
